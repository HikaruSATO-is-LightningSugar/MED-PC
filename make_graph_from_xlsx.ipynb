{
 "cells": [
  {
   "cell_type": "code",
   "execution_count": 2,
   "metadata": {},
   "outputs": [
    {
     "name": "stdout",
     "output_type": "stream",
     "text": [
      "Requirement already satisfied: japanize-matplotlib in /opt/conda/lib/python3.10/site-packages (1.1.3)\n",
      "Requirement already satisfied: matplotlib in /opt/conda/lib/python3.10/site-packages (from japanize-matplotlib) (3.6.2)\n",
      "Requirement already satisfied: cycler>=0.10 in /opt/conda/lib/python3.10/site-packages (from matplotlib->japanize-matplotlib) (0.11.0)\n",
      "Requirement already satisfied: kiwisolver>=1.0.1 in /opt/conda/lib/python3.10/site-packages (from matplotlib->japanize-matplotlib) (1.4.4)\n",
      "Requirement already satisfied: numpy>=1.19 in /opt/conda/lib/python3.10/site-packages (from matplotlib->japanize-matplotlib) (1.23.5)\n",
      "Requirement already satisfied: python-dateutil>=2.7 in /opt/conda/lib/python3.10/site-packages (from matplotlib->japanize-matplotlib) (2.8.2)\n",
      "Requirement already satisfied: pillow>=6.2.0 in /opt/conda/lib/python3.10/site-packages (from matplotlib->japanize-matplotlib) (9.4.0)\n",
      "Requirement already satisfied: pyparsing>=2.2.1 in /opt/conda/lib/python3.10/site-packages (from matplotlib->japanize-matplotlib) (3.0.9)\n",
      "Requirement already satisfied: contourpy>=1.0.1 in /opt/conda/lib/python3.10/site-packages (from matplotlib->japanize-matplotlib) (1.0.6)\n",
      "Requirement already satisfied: fonttools>=4.22.0 in /opt/conda/lib/python3.10/site-packages (from matplotlib->japanize-matplotlib) (4.38.0)\n",
      "Requirement already satisfied: packaging>=20.0 in /opt/conda/lib/python3.10/site-packages (from matplotlib->japanize-matplotlib) (22.0)\n",
      "Requirement already satisfied: six>=1.5 in /opt/conda/lib/python3.10/site-packages (from python-dateutil>=2.7->matplotlib->japanize-matplotlib) (1.16.0)\n",
      "Note: you may need to restart the kernel to use updated packages.\n"
     ]
    }
   ],
   "source": [
    "%pip install japanize-matplotlib"
   ]
  },
  {
   "cell_type": "code",
   "execution_count": 48,
   "metadata": {},
   "outputs": [],
   "source": [
    "import matplotlib.pyplot as plt\n",
    "import seaborn as sns\n",
    "sns.set()\n",
    "#例えば、seaborn を利用している場合であれば sns.set() などで描画フォントが seaborn のデフォルトに上書きされ、日本語表示がされなくなります。\n",
    "#sns.set(font=\"IPAexGothic\") のように利用フォントに IPAexGothic を設定するか、フォント上書き後に japanize_matplotlib.japanize() を利用するなどで日本語表示できるはずです。\n",
    "import japanize_matplotlib\n",
    "japanize_matplotlib.japanize()\n",
    "import pandas as pd\n",
    "import os\n",
    "import glob\n",
    "import re\n",
    "import shutil\n",
    "\n",
    "path_to_RawData_folder = '/home/biofunc/data/ラット行動実験データ（生体機能・組織培養室PC）/Data'\n",
    "def make_graph_from_xlsx(path_to_RawData_folder):\n",
    "    path_to_graph_folder = path_to_RawData_folder + '/graph'\n",
    "    if not os.path.exists(path_to_graph_folder):\n",
    "        os.mkdir(path_to_graph_folder)\n",
    "    elif os.path.exists(path_to_graph_folder):\n",
    "        shutil.rmtree(path_to_graph_folder)\n",
    "        os.mkdir(path_to_graph_folder)\n",
    "    \n",
    "    list_of_path_to_xlsx_folder = sorted(glob.glob(path_to_RawData_folder + '/xlsx_from_json' + '*'))\n",
    "\n",
    "    #print('check point 1')\n",
    "    #print(list_of_path_to_xlsx_folder)\n",
    "\n",
    "    for a_path_to_xlsx in list_of_path_to_xlsx_folder:\n",
    "        # print(a_path)\n",
    "        list_of_path_to_all_rats_xlsx = sorted(glob.glob(a_path_to_xlsx + '/all_rats' + '*' + '.xlsx'))\n",
    "        variation_of_this_folder = a_path_to_xlsx.split('.')[1]\n",
    "        largest_mod_num = 0\n",
    "        a_path_to_all_rats_xlsx_largest_mod = ''\n",
    "\n",
    "        #modが最大のxlsxファイルを選択\n",
    "        for a_path_to_all_rats in list_of_path_to_all_rats_xlsx:\n",
    "            mod_num = re.findall('mod(\\d+)', a_path_to_all_rats)\n",
    "            if int(mod_num[0]) > largest_mod_num:\n",
    "                largest_mod_num = int(mod_num[0])\n",
    "                a_path_to_all_rats_xlsx_largest_mod = a_path_to_all_rats\n",
    "\n",
    "        # header=[0,1]で、1行目と2行目をヘッダーとして読み込む\n",
    "        df_of_all_rats = pd.read_excel(a_path_to_all_rats_xlsx_largest_mod, header=[0,1], index_col=[0])\n",
    "\n",
    "        # make figure\n",
    "        list_of_data = df_of_all_rats.columns.get_level_values('data').unique().to_list()\n",
    "        list_of_subject = df_of_all_rats.columns.get_level_values('subject').unique().to_list()\n",
    "        list_of_type_of_experiment = sorted(set([i.split('_')[0].upper() for i in df_of_all_rats.columns.get_level_values('subject').unique().tolist()]))\n",
    "        color_map = [plt.cm.tab20(i) for i in range(len(list_of_type_of_experiment) * 2)]\n",
    "        color_map_index = 0\n",
    "        fig, axis = plt.subplots(1, len(list_of_data), figsize=(30, 10), dpi=300)\n",
    "        for a_data_No in range(len(list_of_data)):\n",
    "            a_data = list_of_data[a_data_No]\n",
    "            for a_type_No in range(len(list_of_type_of_experiment)):\n",
    "                a_type = list_of_type_of_experiment[a_type_No].upper()\n",
    "                \n",
    "                list_of_this_type_subject = [i for i in list_of_subject if i.split('_')[0].upper() == a_type]\n",
    "                list_of_this_type_subject.sort()\n",
    "                for a_subject in list_of_this_type_subject:\n",
    "                    df_of_this_type_subject = df_of_all_rats[a_data][a_subject]\n",
    "                    if re.findall('average', a_subject):\n",
    "                        axis[a_data_No].plot(df_of_this_type_subject, color=color_map[color_map_index], label=a_subject, alpha=1.0)\n",
    "                    elif not re.findall('std', a_subject) and not re.findall('sem', a_subject):\n",
    "                        axis[a_data_No].plot(df_of_this_type_subject, color=color_map[color_map_index + 1], label=a_subject, alpha=0.2)\n",
    "                color_map_index += 2\n",
    "            color_map_index = 0\n",
    "\n",
    "        for a_data_No in range(len(list_of_data)):\n",
    "            a_data = list_of_data[a_data_No]\n",
    "            colmun = a_data.split('_moving_average')[0]\n",
    "            axis[a_data_No].set_title(f'{colmun}_{variation_of_this_folder}')\n",
    "            axis[a_data_No].legend()\n",
    "            axis[a_data_No].set_xlabel('traial')\n",
    "            axis[a_data_No].set_ylabel('percentage (%)')\n",
    "        # テキストをテキストとして出力する設定\n",
    "        plt.rc(\"svg\", fonttype=\"none\")\n",
    "        # SVGとして保存\n",
    "        fig.savefig(f'{path_to_graph_folder}/{variation_of_this_folder}.svg', format='svg')\n",
    "        # PNGとして保存\n",
    "        fig.savefig(f'{path_to_graph_folder}/{variation_of_this_folder}.png', format='png')"
   ]
  },
  {
   "cell_type": "code",
   "execution_count": null,
   "metadata": {},
   "outputs": [],
   "source": [
    "make_graph_from_xlsx(path_to_RawData_folder)"
   ]
  },
  {
   "cell_type": "code",
   "execution_count": null,
   "metadata": {},
   "outputs": [],
   "source": []
  }
 ],
 "metadata": {
  "kernelspec": {
   "display_name": "base",
   "language": "python",
   "name": "python3"
  },
  "language_info": {
   "codemirror_mode": {
    "name": "ipython",
    "version": 3
   },
   "file_extension": ".py",
   "mimetype": "text/x-python",
   "name": "python",
   "nbconvert_exporter": "python",
   "pygments_lexer": "ipython3",
   "version": "3.10.8"
  },
  "orig_nbformat": 4
 },
 "nbformat": 4,
 "nbformat_minor": 2
}
